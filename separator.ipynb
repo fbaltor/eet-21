{
 "cells": [
  {
   "cell_type": "markdown",
   "metadata": {},
   "source": [
    "# Slakh Audio Source Separation\n",
    "\n",
    "This notebook demonstrates working with the Slakh dataset:\n",
    "1. Define utility classes for working with tracks\n",
    "2. Select a random track and verify mix correlation\n",
    "3. Find and play the track with the fewest stems\n",
    "4. **Oracle mask computation (performance upper bounds)**\n",
    "5. **Evaluate oracle performance**"
   ]
  },
  {
   "cell_type": "markdown",
   "metadata": {},
   "source": [
    "## 1. Imports and Utility Classes"
   ]
  },
  {
   "cell_type": "code",
   "execution_count": 52,
   "metadata": {},
   "outputs": [],
   "source": [
    "import soundfile as sf\n",
    "import sounddevice as sd\n",
    "import yaml\n",
    "import numpy as np\n",
    "from pathlib import Path\n",
    "from typing import Dict, List, Optional, Union\n",
    "from dataclasses import dataclass\n",
    "import random\n",
    "import matplotlib.pyplot as plt\n",
    "from scipy import signal"
   ]
  },
  {
   "cell_type": "code",
   "execution_count": 53,
   "metadata": {},
   "outputs": [],
   "source": [
    "@dataclass\n",
    "class StemInfo:\n",
    "    \"\"\"Information about a single instrument stem.\"\"\"\n",
    "    stem_id: str\n",
    "    inst_class: str\n",
    "    midi_program_name: str\n",
    "    program_num: int\n",
    "    is_drum: bool\n",
    "    integrated_loudness: Optional[float]\n",
    "    plugin_name: str\n",
    "    audio_rendered: bool\n",
    "    midi_saved: bool"
   ]
  },
  {
   "cell_type": "code",
   "execution_count": 54,
   "metadata": {},
   "outputs": [],
   "source": [
    "class SlakhTrack:\n",
    "    \"\"\"\n",
    "    A simple tool to work with Slakh dataset tracks.\n",
    "    \n",
    "    Usage:\n",
    "        track = SlakhTrack('/path/to/track/directory')\n",
    "        info = track.get_track_info()\n",
    "        drums = track.get_stems_by_class('Drums')\n",
    "    \"\"\"\n",
    "    \n",
    "    def __init__(self, track_dir: Union[str, Path]):\n",
    "        self.track_dir = Path(track_dir)\n",
    "        self.metadata_path = self.track_dir / 'metadata.yaml'\n",
    "        \n",
    "        if not self.metadata_path.exists():\n",
    "            raise FileNotFoundError(f\"metadata.yaml not found in {track_dir}\")\n",
    "        \n",
    "        with open(self.metadata_path, 'r') as f:\n",
    "            self.metadata = yaml.safe_load(f)\n",
    "    \n",
    "    def get_track_info(self) -> Dict:\n",
    "        \"\"\"Get general track information.\"\"\"\n",
    "        return {\n",
    "            'uuid': self.metadata.get('UUID'),\n",
    "            'normalized': self.metadata.get('normalized'),\n",
    "            'overall_gain': self.metadata.get('overall_gain'),\n",
    "            'normalization_factor': self.metadata.get('normalization_factor'),\n",
    "            'target_peak': self.metadata.get('target_peak'),\n",
    "            'num_stems': len(self.metadata.get('stems', {}))\n",
    "        }\n",
    "    \n",
    "    def get_stem_info(self, stem_id: str) -> Optional[StemInfo]:\n",
    "        stems = self.metadata.get('stems', {})\n",
    "        if stem_id not in stems:\n",
    "            return None\n",
    "        \n",
    "        stem_data = stems[stem_id]\n",
    "        return StemInfo(\n",
    "            stem_id=stem_id,\n",
    "            inst_class=stem_data.get('inst_class'),\n",
    "            midi_program_name=stem_data.get('midi_program_name'),\n",
    "            program_num=stem_data.get('program_num'),\n",
    "            is_drum=stem_data.get('is_drum', False),\n",
    "            integrated_loudness=stem_data.get('integrated_loudness'),\n",
    "            plugin_name=stem_data.get('plugin_name'),\n",
    "            audio_rendered=stem_data.get('audio_rendered', False),\n",
    "            midi_saved=stem_data.get('midi_saved', False)\n",
    "        )\n",
    "    \n",
    "    def get_all_stems(self) -> List[StemInfo]:\n",
    "        stems = self.metadata.get('stems', {})\n",
    "        result = []\n",
    "        for stem_id in stems.keys():\n",
    "            stem_info = self.get_stem_info(stem_id)\n",
    "            if stem_info is not None:\n",
    "                result.append(stem_info)\n",
    "        return result\n",
    "    \n",
    "    def get_stems_by_class(self, inst_class: str) -> List[StemInfo]:\n",
    "        return [stem for stem in self.get_all_stems() if stem.inst_class == inst_class]\n",
    "    \n",
    "    def get_drum_stems(self) -> List[StemInfo]:\n",
    "        return [stem for stem in self.get_all_stems() if stem.is_drum]\n",
    "    \n",
    "    def get_stem_paths(self, stem_id: str) -> Dict[str, Path]:\n",
    "        return {\n",
    "            'audio': self.track_dir / 'stems' / f'{stem_id}.wav',\n",
    "            'midi': self.track_dir / 'MIDI' / f'{stem_id}.mid'\n",
    "        }\n",
    "    \n",
    "    def get_mix_path(self) -> Path:\n",
    "        return self.track_dir / 'mix.wav'\n",
    "    \n",
    "    def list_available_instruments(self) -> List[str]:\n",
    "        return list(set(stem.inst_class for stem in self.get_all_stems()))\n",
    "    \n",
    "    def __repr__(self) -> str:\n",
    "        info = self.get_track_info()\n",
    "        return f\"SlakhTrack(uuid='{info['uuid']}', stems={info['num_stems']})\""
   ]
  },
  {
   "cell_type": "markdown",
   "metadata": {},
   "source": [
    "## 2. Random Track Selection and Mix Correlation Verification\n",
    "\n",
    "Select a random track and verify that the correlation between the reconstructed mix (sum of stems) matches the official mix."
   ]
  },
  {
   "cell_type": "code",
   "execution_count": 55,
   "metadata": {},
   "outputs": [
    {
     "name": "stdout",
     "output_type": "stream",
     "text": [
      "Found 20 tracks in the dataset\n",
      "\n",
      "Randomly selected: Track00018\n",
      "Track info: SlakhTrack(uuid='3cccac3e7cd68df8f01a1a61e6ef3172', stems=18)\n",
      "Instruments: ['Synth Lead', 'Synth Lead', 'Organ', 'Strings (continued)', 'Organ', 'Strings (continued)', 'Strings (continued)', 'Piano', 'Piano', 'Piano', 'Synth Pad', 'Guitar', 'Sound Effects', 'Sound Effects', 'Guitar', 'Bass', 'Bass', 'Drums']\n"
     ]
    }
   ],
   "source": [
    "# Get all available tracks\n",
    "dataset_root = Path(\"./data/babyslakh_16k\")\n",
    "all_tracks = sorted([d for d in dataset_root.iterdir() if d.is_dir() and d.name.startswith('Track')])\n",
    "\n",
    "print(f\"Found {len(all_tracks)} tracks in the dataset\")\n",
    "\n",
    "# Select a random track\n",
    "random_track_dir = random.choice(all_tracks)\n",
    "print(f\"\\nRandomly selected: {random_track_dir.name}\")\n",
    "\n",
    "# Load the track using our utility class\n",
    "track = SlakhTrack(random_track_dir)\n",
    "print(f\"Track info: {track}\")\n",
    "\n",
    "# Display instruments in this track\n",
    "instruments = [stem.inst_class for stem in track.get_all_stems()]\n",
    "print(f\"Instruments: {instruments}\")"
   ]
  },
  {
   "cell_type": "markdown",
   "metadata": {},
   "source": [
    "## 3. Find Track with Fewest Stems"
   ]
  },
  {
   "cell_type": "code",
   "execution_count": 56,
   "metadata": {},
   "outputs": [
    {
     "name": "stdout",
     "output_type": "stream",
     "text": [
      "Tracks sorted by number of stems:\n",
      "  Track00008: 7 stems\n",
      "  Track00010: 7 stems\n",
      "  Track00015: 7 stems\n",
      "  Track00003: 9 stems\n",
      "  Track00004: 9 stems\n",
      "  Track00011: 9 stems\n",
      "  Track00013: 9 stems\n",
      "  Track00007: 10 stems\n",
      "  Track00020: 10 stems\n",
      "  Track00001: 11 stems\n",
      "\n",
      "==================================================\n",
      "Track with fewest stems: Track00010\n",
      "Number of stems: 7\n",
      "==================================================\n"
     ]
    }
   ],
   "source": [
    "# Count stems in each track\n",
    "track_stem_counts = []\n",
    "for track_dir in all_tracks:\n",
    "    try:\n",
    "        t = SlakhTrack(track_dir)\n",
    "        num_stems = t.get_track_info()['num_stems']\n",
    "        track_stem_counts.append((track_dir, num_stems))\n",
    "    except Exception as e:\n",
    "        print(f\"Warning: Could not load {track_dir.name}: {e}\")\n",
    "\n",
    "# Sort by number of stems (ascending)\n",
    "track_stem_counts.sort(key=lambda x: x[1])\n",
    "\n",
    "print(\"Tracks sorted by number of stems:\")\n",
    "for track_dir, num_stems in track_stem_counts[:10]:  # Show first 10\n",
    "    print(f\"  {track_dir.name}: {num_stems} stems\")\n",
    "\n",
    "# Select the track with fewest stems\n",
    "minimal_track_dir, minimal_stem_count = track_stem_counts[1]\n",
    "print(f\"\\n{'='*50}\")\n",
    "print(f\"Track with fewest stems: {minimal_track_dir.name}\")\n",
    "print(f\"Number of stems: {minimal_stem_count}\")\n",
    "print(f\"{'='*50}\")"
   ]
  },
  {
   "cell_type": "code",
   "execution_count": 57,
   "metadata": {},
   "outputs": [
    {
     "name": "stdout",
     "output_type": "stream",
     "text": [
      "\n",
      "Track information:\n",
      "SlakhTrack(uuid='763348b79ed855fa294a7c980392178b', stems=7)\n",
      "\n",
      "Instruments in this track:\n",
      "  S00: Bass - Electric Bass (finger)\n",
      "  S01: Guitar - Acoustic Guitar (steel)\n",
      "  S02: Guitar - Acoustic Guitar (steel)\n",
      "  S03: Synth Pad - Pad 7 (halo)\n",
      "  S04: Synth Pad - Pad 7 (halo)\n",
      "  S05: Piano - Honky-tonk Piano\n",
      "  S06: Drums - Drums\n"
     ]
    }
   ],
   "source": [
    "# Load and display information about this track\n",
    "minimal_track = SlakhTrack(minimal_track_dir)\n",
    "print(f\"\\nTrack information:\")\n",
    "print(minimal_track)\n",
    "\n",
    "print(f\"\\nInstruments in this track:\")\n",
    "for stem in minimal_track.get_all_stems():\n",
    "    print(f\"  {stem.stem_id}: {stem.inst_class} - {stem.midi_program_name}\")"
   ]
  },
  {
   "cell_type": "markdown",
   "metadata": {},
   "source": [
    "## 4. Oracle Mask Implementation (Performance Upper Bounds)\n",
    "\n",
    "Oracle masks use ground-truth stem information to establish theoretical performance ceilings."
   ]
  },
  {
   "cell_type": "markdown",
   "metadata": {},
   "source": [
    "### 4.1 STFT Configuration"
   ]
  },
  {
   "cell_type": "code",
   "execution_count": 58,
   "metadata": {},
   "outputs": [
    {
     "name": "stdout",
     "output_type": "stream",
     "text": [
      "STFT Configuration:\n",
      "  Window size: 1024 samples (64.0 ms)\n",
      "  Hop length: 256 samples (16.0 ms)\n",
      "  FFT size: 1024\n",
      "  Frequency bins: 513 (0 to 8000 Hz)\n",
      "  Overlap: 75%\n",
      "\n",
      "Mix: 10.00 seconds @ 16000 Hz\n"
     ]
    }
   ],
   "source": [
    "# STFT parameters (optimized for 16kHz audio)\n",
    "WINDOW_SIZE = 1024  # 64ms @ 16kHz\n",
    "HOP_LENGTH = 256    # 75% overlap\n",
    "FFT_SIZE = 1024     # 513 frequency bins up to 8kHz\n",
    "WINDOW = 'hann'     # Hann window for smooth reconstruction\n",
    "\n",
    "# Load minimal track mix for testing\n",
    "mix_audio, sr = sf.read(minimal_track.get_mix_path())\n",
    "trim_duration = 10  # seconds\n",
    "trim_samples = int(sr * trim_duration)\n",
    "mix_audio = mix_audio[:trim_samples]\n",
    "\n",
    "print(\"STFT Configuration:\")\n",
    "print(f\"  Window size: {WINDOW_SIZE} samples ({WINDOW_SIZE/sr*1000:.1f} ms)\")\n",
    "print(f\"  Hop length: {HOP_LENGTH} samples ({HOP_LENGTH/sr*1000:.1f} ms)\")\n",
    "print(f\"  FFT size: {FFT_SIZE}\")\n",
    "print(f\"  Frequency bins: {FFT_SIZE//2 + 1} (0 to {sr/2:.0f} Hz)\")\n",
    "print(f\"  Overlap: {(1 - HOP_LENGTH/WINDOW_SIZE)*100:.0f}%\")\n",
    "print(f\"\\nMix: {len(mix_audio) / sr:.2f} seconds @ {sr} Hz\")"
   ]
  },
  {
   "cell_type": "markdown",
   "metadata": {},
   "source": [
    "### 4.2 STFT/ISTFT Functions"
   ]
  },
  {
   "cell_type": "code",
   "execution_count": 59,
   "metadata": {},
   "outputs": [
    {
     "name": "stdout",
     "output_type": "stream",
     "text": [
      "✓ STFT computed: (513, 626) (freq x time)\n",
      "  Frequency range: 0 - 8000 Hz\n",
      "  Time frames: 626\n",
      "  Duration: 10.00 seconds\n"
     ]
    }
   ],
   "source": [
    "def compute_stft(audio, sr, window_size=WINDOW_SIZE, hop_length=HOP_LENGTH, fft_size=FFT_SIZE):\n",
    "    \"\"\"Compute STFT of audio signal.\"\"\"\n",
    "    f, t, Zxx = signal.stft(\n",
    "        audio, fs=sr, window=WINDOW,\n",
    "        nperseg=window_size,\n",
    "        noverlap=window_size - hop_length,\n",
    "        nfft=fft_size\n",
    "    )\n",
    "    return f, t, Zxx\n",
    "\n",
    "def compute_istft(Zxx, sr, window_size=WINDOW_SIZE, hop_length=HOP_LENGTH, fft_size=FFT_SIZE):\n",
    "    \"\"\"Compute inverse STFT to reconstruct audio.\"\"\"\n",
    "    _, audio = signal.istft(\n",
    "        Zxx, fs=sr, window=WINDOW,\n",
    "        nperseg=window_size,\n",
    "        noverlap=window_size - hop_length,\n",
    "        nfft=fft_size\n",
    "    )\n",
    "    return audio\n",
    "\n",
    "# Test on mix\n",
    "f, t, mix_stft = compute_stft(mix_audio, sr)\n",
    "print(f\"✓ STFT computed: {mix_stft.shape} (freq x time)\")\n",
    "print(f\"  Frequency range: {f[0]:.0f} - {f[-1]:.0f} Hz\")\n",
    "print(f\"  Time frames: {len(t)}\")\n",
    "print(f\"  Duration: {t[-1]:.2f} seconds\")"
   ]
  },
  {
   "cell_type": "markdown",
   "metadata": {},
   "source": [
    "### 4.3 Oracle Mask Functions"
   ]
  },
  {
   "cell_type": "code",
   "execution_count": 65,
   "metadata": {},
   "outputs": [
    {
     "name": "stdout",
     "output_type": "stream",
     "text": [
      "Oracle mask functions defined:\n",
      "  - Ideal Binary Mask (IBM)\n",
      "  - Ideal Ratio Mask (IRM)\n",
      "  - Wiener Mask (p=1,2)\n"
     ]
    }
   ],
   "source": [
    "def ideal_binary_mask(stem_stfts):\n",
    "    \"\"\"\n",
    "    Ideal Binary Mask (IBM): Winner-take-all per T-F bin.\n",
    "    Assigns 1 to stem with largest magnitude, 0 to others.\n",
    "    \"\"\"\n",
    "    magnitudes = np.array([np.abs(stft) for stft in stem_stfts])\n",
    "    max_indices = np.argmax(magnitudes, axis=0)\n",
    "    \n",
    "    masks = []\n",
    "    for i in range(len(stem_stfts)):\n",
    "        mask = (max_indices == i).astype(float)\n",
    "        masks.append(mask)\n",
    "    \n",
    "    return masks\n",
    "\n",
    "def ideal_ratio_mask(stem_stfts, epsilon=1e-10):\n",
    "    \"\"\"\n",
    "    Ideal Ratio Mask (IRM): Soft mask based on magnitude ratios.\n",
    "    IRM_i = |S_i| / sum_j(|S_j|)\n",
    "    \"\"\"\n",
    "    magnitudes = np.array([np.abs(stft) for stft in stem_stfts])\n",
    "    total_magnitude = np.sum(magnitudes, axis=0) + epsilon\n",
    "    \n",
    "    masks = []\n",
    "    for mag in magnitudes:\n",
    "        mask = mag / total_magnitude\n",
    "        masks.append(mask)\n",
    "    \n",
    "    return masks\n",
    "\n",
    "def wiener_mask(stem_stfts, power=2, epsilon=1e-10):\n",
    "    \"\"\"\n",
    "    Wiener-style mask (generalized power mask).\n",
    "    Mask_i = |S_i|^p / sum_j(|S_j|^p)\n",
    "    p=1: Same as IRM, p=2: Traditional Wiener filter\n",
    "    \"\"\"\n",
    "    magnitudes = np.array([np.abs(stft) for stft in stem_stfts])\n",
    "    powers = magnitudes ** power\n",
    "    total_power = np.sum(powers, axis=0) + epsilon\n",
    "    \n",
    "    masks = []\n",
    "    for mag_power in powers:\n",
    "        mask = mag_power / total_power\n",
    "        masks.append(mask)\n",
    "    \n",
    "    return masks\n",
    "\n",
    "print(\"Oracle mask functions defined:\\n\\\n",
    "  - Ideal Binary Mask (IBM)\\n\\\n",
    "  - Ideal Ratio Mask (IRM)\\n\\\n",
    "  - Wiener Mask (p=1,2)\")"
   ]
  },
  {
   "cell_type": "markdown",
   "metadata": {},
   "source": [
    "### 4.4 Evaluation Metrics"
   ]
  },
  {
   "cell_type": "code",
   "execution_count": 67,
   "metadata": {},
   "outputs": [
    {
     "name": "stdout",
     "output_type": "stream",
     "text": [
      "Evaluation functions defined:\n",
      "  - SI-SDR metric\n",
      "  - Batch evaluation\n"
     ]
    }
   ],
   "source": [
    "def si_sdr(reference, estimate, epsilon=1e-10):\n",
    "    \"\"\"\n",
    "    Scale-Invariant Signal-to-Distortion Ratio (SI-SDR).\n",
    "    More robust than SDR to gain differences.\n",
    "    \"\"\"\n",
    "    # Ensure same length\n",
    "    min_len = min(len(reference), len(estimate))\n",
    "    reference = reference[:min_len]\n",
    "    estimate = estimate[:min_len]\n",
    "    \n",
    "    # Scale-invariant projection\n",
    "    alpha = np.dot(estimate, reference) / (np.dot(reference, reference) + epsilon)\n",
    "    target = alpha * reference\n",
    "    \n",
    "    # Distortion\n",
    "    residual = estimate - target\n",
    "    \n",
    "    # SI-SDR in dB\n",
    "    si_sdr_value = 10 * np.log10(\n",
    "        (np.sum(target**2) + epsilon) / (np.sum(residual**2) + epsilon)\n",
    "    )\n",
    "    \n",
    "    return si_sdr_value\n",
    "\n",
    "def evaluate_separation(reference_stems, estimated_stems, stem_names):\n",
    "    \"\"\"Evaluate separation quality using SI-SDR.\"\"\"\n",
    "    results = {}\n",
    "    \n",
    "    for i, name in enumerate(stem_names):\n",
    "        sdr = si_sdr(reference_stems[i], estimated_stems[i])\n",
    "        results[name] = sdr\n",
    "    \n",
    "    results['mean'] = np.mean(list(results.values()))\n",
    "    return results\n",
    "\n",
    "print(\"Evaluation functions defined:\\n\\\n",
    "  - SI-SDR metric\\n\\\n",
    "  - Batch evaluation\")"
   ]
  },
  {
   "cell_type": "markdown",
   "metadata": {},
   "source": [
    "### 4.5 Load Stems and Compute STFTs"
   ]
  },
  {
   "cell_type": "code",
   "execution_count": 68,
   "metadata": {},
   "outputs": [
    {
     "name": "stdout",
     "output_type": "stream",
     "text": [
      "Loading stems from Track00010...\n",
      "\n",
      "  ✓ S00_Bass\n",
      "  ✓ S01_Guitar\n",
      "  ✓ S02_Guitar\n",
      "  ✓ S03_Synth Pad\n",
      "  ✓ S04_Synth Pad\n",
      "  ✓ S05_Piano\n",
      "  ✓ S06_Drums\n",
      "\n",
      "Loaded 7 stems successfully\n"
     ]
    }
   ],
   "source": [
    "# Load all stems from minimal track\n",
    "print(f\"Loading stems from {minimal_track_dir.name}...\\n\")\n",
    "\n",
    "stem_names = []\n",
    "stems_audio = []\n",
    "stems_stft = []\n",
    "\n",
    "for stem_info in minimal_track.get_all_stems():\n",
    "    stem_path = minimal_track.get_stem_paths(stem_info.stem_id)['audio']\n",
    "    \n",
    "    # Skip macOS metadata files\n",
    "    if stem_path.name.startswith('._'):\n",
    "        continue\n",
    "    \n",
    "    try:\n",
    "        audio, _ = sf.read(stem_path)\n",
    "        audio = audio[:trim_samples]  # Trim to 10 seconds\n",
    "        \n",
    "        # Compute STFT\n",
    "        f, t, Zxx = compute_stft(audio, sr)\n",
    "        \n",
    "        stem_name = f\"{stem_info.stem_id}_{stem_info.inst_class}\"\n",
    "        stem_names.append(stem_name)\n",
    "        stems_audio.append(audio)\n",
    "        stems_stft.append(Zxx)\n",
    "        \n",
    "        print(f\"  ✓ {stem_name}\")\n",
    "        \n",
    "    except Exception as e:\n",
    "        print(f\"  ✗ {stem_path.name}: {e}\")\n",
    "\n",
    "print(f\"\\nLoaded {len(stem_names)} stems successfully\")"
   ]
  },
  {
   "cell_type": "markdown",
   "metadata": {},
   "source": [
    "### 4.6 Verify Stems Sum to Mix"
   ]
  },
  {
   "cell_type": "code",
   "execution_count": 71,
   "metadata": {},
   "outputs": [
    {
     "name": "stdout",
     "output_type": "stream",
     "text": [
      "Verification: Correlation = 0.999999845496\n",
      "✓ Stems sum to mix correctly!\n"
     ]
    }
   ],
   "source": [
    "# Verify stems sum to mix\n",
    "reconstructed_mix = np.sum(stems_audio, axis=0)\n",
    "correlation = np.corrcoef(mix_audio.flatten(), reconstructed_mix.flatten())[0, 1]\n",
    "\n",
    "print(f\"Verification: Correlation = {correlation:.12f}\")\n",
    "if correlation > 0.99:\n",
    "    print(\"✓ Stems sum to mix correctly!\")\n",
    "else:\n",
    "    print(\"⚠ WARNING: Low correlation detected!\")"
   ]
  },
  {
   "cell_type": "markdown",
   "metadata": {},
   "source": [
    "## 5. Compute and Evaluate Oracle Masks"
   ]
  },
  {
   "cell_type": "markdown",
   "metadata": {},
   "source": [
    "### 5.1 Compute All Oracle Masks"
   ]
  },
  {
   "cell_type": "code",
   "execution_count": 73,
   "metadata": {},
   "outputs": [
    {
     "name": "stdout",
     "output_type": "stream",
     "text": [
      "Computing oracle masks...\n",
      "\n",
      "Ideal Binary Masks\n",
      "Ideal Ratio Masks\n",
      "Wiener Masks (p=2)\n",
      "Wiener Masks (p=1)\n"
     ]
    }
   ],
   "source": [
    "# Compute all oracle mask types\n",
    "print(\"Computing oracle masks...\\n\")\n",
    "\n",
    "# IBM\n",
    "ibm_masks = ideal_binary_mask(stems_stft)\n",
    "print(\"Ideal Binary Masks\")\n",
    "\n",
    "# IRM\n",
    "irm_masks = ideal_ratio_mask(stems_stft)\n",
    "print(\"Ideal Ratio Masks\")\n",
    "\n",
    "# Wiener p=2\n",
    "wiener2_masks = wiener_mask(stems_stft, power=2)\n",
    "print(\"Wiener Masks (p=2)\")\n",
    "\n",
    "# Wiener p=1\n",
    "wiener1_masks = wiener_mask(stems_stft, power=1)\n",
    "print(\"Wiener Masks (p=1)\")"
   ]
  },
  {
   "cell_type": "markdown",
   "metadata": {},
   "source": [
    "### 5.2 Apply Masks and Reconstruct"
   ]
  },
  {
   "cell_type": "code",
   "execution_count": 75,
   "metadata": {},
   "outputs": [
    {
     "name": "stdout",
     "output_type": "stream",
     "text": [
      "Reconstructing audio with masks...\n",
      "\n",
      "IBM reconstruction\n",
      "IRM reconstruction\n",
      "Wiener (p=2) reconstruction\n",
      "Wiener (p=1) reconstruction\n"
     ]
    }
   ],
   "source": [
    "def reconstruct_with_masks(mix_stft, masks, sr):\n",
    "    \"\"\"Apply masks to mix STFT and reconstruct audio.\"\"\"\n",
    "    reconstructed = []\n",
    "    for mask in masks:\n",
    "        masked_stft = mix_stft * mask\n",
    "        audio = compute_istft(masked_stft, sr)\n",
    "        reconstructed.append(audio)\n",
    "    return reconstructed\n",
    "\n",
    "# Reconstruct with each mask type\n",
    "print(\"Reconstructing audio with masks...\\n\")\n",
    "\n",
    "ibm_reconstructed = reconstruct_with_masks(mix_stft, ibm_masks, sr)\n",
    "print(\"IBM reconstruction\")\n",
    "\n",
    "irm_reconstructed = reconstruct_with_masks(mix_stft, irm_masks, sr)\n",
    "print(\"IRM reconstruction\")\n",
    "\n",
    "wiener2_reconstructed = reconstruct_with_masks(mix_stft, wiener2_masks, sr)\n",
    "print(\"Wiener (p=2) reconstruction\")\n",
    "\n",
    "wiener1_reconstructed = reconstruct_with_masks(mix_stft, wiener1_masks, sr)\n",
    "print(\"Wiener (p=1) reconstruction\")"
   ]
  },
  {
   "cell_type": "markdown",
   "metadata": {},
   "source": [
    "### 5.3 Evaluate Oracle Performance"
   ]
  },
  {
   "cell_type": "code",
   "execution_count": 76,
   "metadata": {},
   "outputs": [
    {
     "name": "stdout",
     "output_type": "stream",
     "text": [
      "======================================================================\n",
      "ORACLE MASK PERFORMANCE (Upper Bounds)\n",
      "======================================================================\n",
      "\n",
      "Ideal Binary Mask (IBM):\n",
      "----------------------------------------\n",
      "  S00_Bass                      :   2.68 dB\n",
      "  S01_Guitar                    :   4.38 dB\n",
      "  S02_Guitar                    :   1.57 dB\n",
      "  S03_Synth Pad                 :   7.39 dB\n",
      "  S04_Synth Pad                 :   0.00 dB\n",
      "  S05_Piano                     :   4.23 dB\n",
      "  S06_Drums                     :   9.05 dB\n",
      "  Mean SI-SDR                   :   4.18 dB\n",
      "\n",
      "Ideal Ratio Mask (IRM):\n",
      "----------------------------------------\n",
      "  S00_Bass                      :   3.04 dB\n",
      "  S01_Guitar                    :   5.10 dB\n",
      "  S02_Guitar                    :   3.02 dB\n",
      "  S03_Synth Pad                 :   7.00 dB\n",
      "  S04_Synth Pad                 :   0.00 dB\n",
      "  S05_Piano                     :   5.05 dB\n",
      "  S06_Drums                     :   8.03 dB\n",
      "  Mean SI-SDR                   :   4.46 dB\n",
      "\n",
      "Wiener Mask (p=2):\n",
      "----------------------------------------\n",
      "  S00_Bass                      :   4.07 dB\n",
      "  S01_Guitar                    :   5.85 dB\n",
      "  S02_Guitar                    :   3.56 dB\n",
      "  S03_Synth Pad                 :   7.96 dB\n",
      "  S04_Synth Pad                 :   0.00 dB\n",
      "  S05_Piano                     :   5.64 dB\n",
      "  S06_Drums                     :   9.27 dB\n",
      "  Mean SI-SDR                   :   5.19 dB\n",
      "\n",
      "Wiener Mask (p=1):\n",
      "----------------------------------------\n",
      "  S00_Bass                      :   3.04 dB\n",
      "  S01_Guitar                    :   5.10 dB\n",
      "  S02_Guitar                    :   3.02 dB\n",
      "  S03_Synth Pad                 :   7.00 dB\n",
      "  S04_Synth Pad                 :   0.00 dB\n",
      "  S05_Piano                     :   5.05 dB\n",
      "  S06_Drums                     :   8.03 dB\n",
      "  Mean SI-SDR                   :   4.46 dB\n",
      "\n",
      "======================================================================\n"
     ]
    }
   ],
   "source": [
    "print(\"=\" * 70)\n",
    "print(\"ORACLE MASK PERFORMANCE (Upper Bounds)\")\n",
    "print(\"=\" * 70)\n",
    "\n",
    "# IBM\n",
    "print(\"\\nIdeal Binary Mask (IBM):\")\n",
    "print(\"-\" * 40)\n",
    "ibm_results = evaluate_separation(stems_audio, ibm_reconstructed, stem_names)\n",
    "for name in stem_names:\n",
    "    print(f\"  {name:30s}: {ibm_results[name]:6.2f} dB\")\n",
    "print(f\"  {'Mean SI-SDR':30s}: {ibm_results['mean']:6.2f} dB\")\n",
    "\n",
    "# IRM\n",
    "print(\"\\nIdeal Ratio Mask (IRM):\")\n",
    "print(\"-\" * 40)\n",
    "irm_results = evaluate_separation(stems_audio, irm_reconstructed, stem_names)\n",
    "for name in stem_names:\n",
    "    print(f\"  {name:30s}: {irm_results[name]:6.2f} dB\")\n",
    "print(f\"  {'Mean SI-SDR':30s}: {irm_results['mean']:6.2f} dB\")\n",
    "\n",
    "# Wiener p=2\n",
    "print(\"\\nWiener Mask (p=2):\")\n",
    "print(\"-\" * 40)\n",
    "wiener2_results = evaluate_separation(stems_audio, wiener2_reconstructed, stem_names)\n",
    "for name in stem_names:\n",
    "    print(f\"  {name:30s}: {wiener2_results[name]:6.2f} dB\")\n",
    "print(f\"  {'Mean SI-SDR':30s}: {wiener2_results['mean']:6.2f} dB\")\n",
    "\n",
    "# Wiener p=1\n",
    "print(\"\\nWiener Mask (p=1):\")\n",
    "print(\"-\" * 40)\n",
    "wiener1_results = evaluate_separation(stems_audio, wiener1_reconstructed, stem_names)\n",
    "for name in stem_names:\n",
    "    print(f\"  {name:30s}: {wiener1_results[name]:6.2f} dB\")\n",
    "print(f\"  {'Mean SI-SDR':30s}: {wiener1_results['mean']:6.2f} dB\")\n",
    "\n",
    "print(\"\\n\" + \"=\" * 70)"
   ]
  },
  {
   "cell_type": "markdown",
   "metadata": {},
   "source": [
    "### 5.4 Summary Comparison"
   ]
  },
  {
   "cell_type": "code",
   "execution_count": 77,
   "metadata": {},
   "outputs": [
    {
     "name": "stdout",
     "output_type": "stream",
     "text": [
      "\n",
      "SUMMARY - Mean SI-SDR by Method:\n",
      "----------------------------------------\n",
      "  IBM            :   4.18 dB\n",
      "  IRM            :   4.46 dB\n",
      "  Wiener (p=2)   :   5.19 dB\n",
      "  Wiener (p=1)   :   4.46 dB\n",
      "\n",
      "Interpretation:\n",
      "- These are UPPER BOUNDS (oracle masks use ground truth)\n",
      "- Any classical method should achieve SI-SDR below these values\n",
      "- Higher SI-SDR = better separation quality\n",
      "- Wiener (p=2) typically performs best for oracle masks\n"
     ]
    }
   ],
   "source": [
    "# Summary comparison\n",
    "print(\"\\nSUMMARY - Mean SI-SDR by Method:\")\n",
    "print(\"-\" * 40)\n",
    "print(f\"  {'IBM':15s}: {ibm_results['mean']:6.2f} dB\")\n",
    "print(f\"  {'IRM':15s}: {irm_results['mean']:6.2f} dB\")\n",
    "print(f\"  {'Wiener (p=2)':15s}: {wiener2_results['mean']:6.2f} dB\")\n",
    "print(f\"  {'Wiener (p=1)':15s}: {wiener1_results['mean']:6.2f} dB\")\n",
    "\n",
    "print(\"\\nInterpretation:\")\n",
    "print(\"- These are UPPER BOUNDS (oracle masks use ground truth)\")\n",
    "print(\"- Any classical method should achieve SI-SDR below these values\")\n",
    "print(\"- Higher SI-SDR = better separation quality\")\n",
    "print(\"- Wiener (p=2) typically performs best for oracle masks\")"
   ]
  },
  {
   "cell_type": "markdown",
   "metadata": {},
   "source": [
    "## 6. Next Steps\n",
    "\n",
    "**Phase 0 Complete:** Oracle masks established performance ceiling\n",
    "\n",
    "**Next phases:**\n",
    "1. **HPSS** (Harmonic-Percussive Source Separation via median filtering)\n",
    "2. **Sub-band filtering** (FIR/IIR filter banks)\n",
    "3. **NMF** (Non-negative Matrix Factorization)\n",
    "4. **Full evaluation** on all tracks"
   ]
  }
 ],
 "metadata": {
  "kernelspec": {
   "display_name": "Python 3 (ipykernel)",
   "language": "python",
   "name": "python3"
  },
  "language_info": {
   "codemirror_mode": {
    "name": "ipython",
    "version": 3
   },
   "file_extension": ".py",
   "mimetype": "text/x-python",
   "name": "python",
   "nbconvert_exporter": "python",
   "pygments_lexer": "ipython3",
   "version": "3.11.10"
  }
 },
 "nbformat": 4,
 "nbformat_minor": 4
}
